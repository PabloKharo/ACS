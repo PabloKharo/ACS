{
 "cells": [
  {
   "cell_type": "code",
   "execution_count": 1,
   "id": "permanent-secret",
   "metadata": {},
   "outputs": [],
   "source": [
    "(* Расширенный алгоритм Евклида для полиномов *)\n",
    "myPolyBezout[aa_, bb_] := Module[\n",
    "        {a = aa, b = bb, q, r},\n",
    "        {x0, xx, y0, yy} = {1,0,0,1};               \n",
    "        While[Not[SameQ[b, 0]],\n",
    "            q = PolynomialQuotient[a,b,x];\n",
    "            r = PolynomialRemainder[a,b,x];\n",
    "            {a,b} = {b, r};\n",
    "            {x0, xx} = {xx, ExpandAll[x0 - xx*q]};\n",
    "            {y0, yy} = {yy, ExpandAll[y0 - yy*q]};\n",
    "        ];\n",
    "        {a, {x0, y0}}\n",
    "];"
   ]
  },
  {
   "cell_type": "code",
   "execution_count": 3,
   "id": "registered-basement",
   "metadata": {},
   "outputs": [],
   "source": [
    "f = 5*x^5 - 21*x^4 + 23*x^3 - 37*x^2 + 77*x - 7;\n",
    "g = 10*x^4 - 42*x^3 + 56*x^2 - 26*x + 2;"
   ]
  },
  {
   "cell_type": "code",
   "execution_count": 5,
   "id": "potential-germany",
   "metadata": {},
   "outputs": [
    {
     "data": {
      "text/html": [
       "<div><img alt=\"Output\" src=\"data:image/png;base64,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\"></div>"
      ],
      "text/plain": [
       "                     2                         2\n",
       "{128 - 1408 x + 640 x , {-18 + 2 x, 1 + 9 x - x }}"
      ]
     },
     "execution_count": 5,
     "metadata": {
      "text/html": [],
      "text/plain": []
     },
     "output_type": "execute_result"
    }
   ],
   "source": [
    "myPolyBezout[f,g]"
   ]
  },
  {
   "cell_type": "code",
   "execution_count": 6,
   "id": "tropical-water",
   "metadata": {},
   "outputs": [
    {
     "data": {
      "text/html": [
       "<div><img alt=\"Output\" src=\"data:image/png;base64,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\"></div>"
      ],
      "text/plain": [
       "                                                      2\n",
       "               2   -5625 + 625 x  625 + 5625 x - 625 x\n",
       "{1 - 11 x + 5 x , {-------------, ---------------------}}\n",
       "                       40000              80000"
      ]
     },
     "execution_count": 6,
     "metadata": {
      "text/html": [],
      "text/plain": []
     },
     "output_type": "execute_result"
    }
   ],
   "source": [
    "PolynomialExtendedGCD[f,g]"
   ]
  },
  {
   "cell_type": "code",
   "execution_count": 7,
   "id": "opposite-humidity",
   "metadata": {},
   "outputs": [],
   "source": [
    "{myGCD, {myU, myV}} = myPolyBezout[f,g];\n",
    "{wGCD, {wU, wV}} = PolynomialExtendedGCD[f,g,x];"
   ]
  },
  {
   "cell_type": "code",
   "execution_count": 9,
   "id": "psychological-document",
   "metadata": {},
   "outputs": [
    {
     "data": {
      "text/html": [
       "<div><img alt=\"Output\" src=\"data:image/png;base64,iVBORw0KGgoAAAANSUhEUgAAAB8AAAARCAIAAACqxuAeAAAA0HpUWHRSYXcgcHJvZmlsZSB0eXBlIGV4aWYAAHjabU9bjsMgDPznFD2CX4zhOKQh0t5gj18T2K2oOhKe8TB2Quq/P1d6DAhTsuwFFaCAVavSQhSamMxU7zqba93x7if+C7Sw8vsCffnH7jsmS/lYRDKFji+EVlsDa5HK9LnN/lh5aaXsi5Q2WPn/9e+9uiCD3aKakDtq6JJCBiELZceFJxBBxilkz+AO9xiDj4S2MTgg3fd0T9AwzvEEHYe1BVtU0RKjrH47ElW1yhFab2c85wVVGFq+FUesRAAAAAlwSFlzAAALEwAACxMBAJqcGAAAADx0RVh0U29mdHdhcmUAQ3JlYXRlZCB3aXRoIHRoZSBXb2xmcmFtIExhbmd1YWdlIDogd3d3LndvbGZyYW0uY29tXKKmhQAAACF0RVh0Q3JlYXRpb24gVGltZQAyMDIxOjA0OjI4IDE3OjAyOjM5sYA1SwAAAVpJREFUOI3tlKHLwkAYxl+3Y1iHZQiuyZbOpGEwm4jBYFhaHytbsWhXDMKy7C9YGwjXDFpm8g8QEVkzOFiTCeMMx/chfDBBlI8Pvic99/Lw4957765EKYWPifsc+q/TPc9DCCGEOI7jeZ75zWbzHjz9kmma8/mcvlVFJxMEgeu6q9Wq1WrJsmxZFgBMJhPbtr8zCKHL5cI8IaTRaFSr1U6nczweAQAVd7Zer/f7/XK5lCTpdrsVJKMosm2bEIIxDsPQMIzdbvdkqufzOQgCSZIAQBCEguRsNhuPxxhjABgMBnmen06nJ3vHGIuiWJxhiuPY8zzf99kyTdMkSZ7Qf6pcLmdZxvzjO6/Vav1+/3Ek8MJ9V1U1iqLr9Zrn+XA45Hme1Uej0XQ63W63lNI0TQkhr9B7vV6z2VQUpd1ud7vder3O6rquLxYLx3EqlYqmaYfDAQBK/7/Yr9DvstXTZgVEyhgAAAAASUVORK5CYII=\"></div>"
      ],
      "text/plain": [
       "True"
      ]
     },
     "execution_count": 10,
     "metadata": {
      "text/html": [],
      "text/plain": []
     },
     "output_type": "execute_result"
    }
   ],
   "source": [
    "(* Сравнение НОД с f*u + g*v *)\n",
    "FullSimplify[myGCD == f*myU + g*myV]"
   ]
  },
  {
   "cell_type": "code",
   "execution_count": 11,
   "id": "quantitative-fight",
   "metadata": {},
   "outputs": [],
   "source": [
    "(* Получение значения коэффициента при высшей степени x *)\n",
    "lastCoef[poly_] := Coefficient[\n",
    "    poly, x, Exponent[poly, x]\n",
    "]"
   ]
  },
  {
   "cell_type": "code",
   "execution_count": 13,
   "id": "frank-diameter",
   "metadata": {},
   "outputs": [
    {
     "data": {
      "text/html": [
       "<div><img alt=\"Output\" src=\"data:image/png;base64,iVBORw0KGgoAAAANSUhEUgAAAB8AAAARCAIAAACqxuAeAAAA0HpUWHRSYXcgcHJvZmlsZSB0eXBlIGV4aWYAAHjabU9bjsMgDPznFD2CX4zhOKQh0t5gj18T2K2oOhKe8TB2Quq/P1d6DAhTsuwFFaCAVavSQhSamMxU7zqba93x7if+C7Sw8vsCffnH7jsmS/lYRDKFji+EVlsDa5HK9LnN/lh5aaXsi5Q2WPn/9e+9uiCD3aKakDtq6JJCBiELZceFJxBBxilkz+AO9xiDj4S2MTgg3fd0T9AwzvEEHYe1BVtU0RKjrH47ElW1yhFab2c85wVVGFq+FUesRAAAAAlwSFlzAAALEwAACxMBAJqcGAAAADx0RVh0U29mdHdhcmUAQ3JlYXRlZCB3aXRoIHRoZSBXb2xmcmFtIExhbmd1YWdlIDogd3d3LndvbGZyYW0uY29tXKKmhQAAACF0RVh0Q3JlYXRpb24gVGltZQAyMDIxOjA0OjI4IDE3OjAyOjM5sYA1SwAAAVpJREFUOI3tlKHLwkAYxl+3Y1iHZQiuyZbOpGEwm4jBYFhaHytbsWhXDMKy7C9YGwjXDFpm8g8QEVkzOFiTCeMMx/chfDBBlI8Pvic99/Lw4957765EKYWPifsc+q/TPc9DCCGEOI7jeZ75zWbzHjz9kmma8/mcvlVFJxMEgeu6q9Wq1WrJsmxZFgBMJhPbtr8zCKHL5cI8IaTRaFSr1U6nczweAQAVd7Zer/f7/XK5lCTpdrsVJKMosm2bEIIxDsPQMIzdbvdkqufzOQgCSZIAQBCEguRsNhuPxxhjABgMBnmen06nJ3vHGIuiWJxhiuPY8zzf99kyTdMkSZ7Qf6pcLmdZxvzjO6/Vav1+/3Ek8MJ9V1U1iqLr9Zrn+XA45Hme1Uej0XQ63W63lNI0TQkhr9B7vV6z2VQUpd1ud7vder3O6rquLxYLx3EqlYqmaYfDAQBK/7/Yr9DvstXTZgVEyhgAAAAASUVORK5CYII=\"></div>"
      ],
      "text/plain": [
       "True"
      ]
     },
     "execution_count": 14,
     "metadata": {
      "text/html": [],
      "text/plain": []
     },
     "output_type": "execute_result"
    }
   ],
   "source": [
    "(* Сравнение моего GCD и полученного Wolfram с нормализацией *)\n",
    "FullSimplify[myGCD / lastCoef[myGCD] == wGCD / lastCoef[wGCD]]"
   ]
  },
  {
   "cell_type": "code",
   "execution_count": null,
   "id": "intended-guide",
   "metadata": {},
   "outputs": [],
   "source": []
  },
  {
   "cell_type": "code",
   "execution_count": null,
   "id": "bulgarian-channels",
   "metadata": {},
   "outputs": [],
   "source": []
  }
 ],
 "metadata": {
  "kernelspec": {
   "display_name": "Wolfram Language 12.2",
   "language": "Wolfram Language",
   "name": "wolframlanguage12.2"
  },
  "language_info": {
   "codemirror_mode": "mathematica",
   "file_extension": ".m",
   "mimetype": "application/vnd.wolfram.m",
   "name": "Wolfram Language",
   "pygments_lexer": "mathematica",
   "version": "12.0"
  }
 },
 "nbformat": 4,
 "nbformat_minor": 5
}
